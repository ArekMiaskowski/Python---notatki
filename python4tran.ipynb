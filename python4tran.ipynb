{
 "cells": [
  {
   "cell_type": "markdown",
   "metadata": {},
   "source": [
    "# Operatory arytetyczne\n",
    "1. Dodawanie +\n",
    "2. Odejmowanie -\n",
    "3. Mnożenie *\n",
    "4. Dzielenie /\n",
    "5. Potęgowanie **\n",
    "6. Modulo %\n",
    "7. Dzielenie całkowiete //\n"
   ]
  },
  {
   "cell_type": "code",
   "execution_count": 1,
   "metadata": {},
   "outputs": [
    {
     "data": {
      "text/plain": [
       "3"
      ]
     },
     "execution_count": 1,
     "metadata": {},
     "output_type": "execute_result"
    }
   ],
   "source": [
    "1+2"
   ]
  },
  {
   "cell_type": "code",
   "execution_count": 2,
   "metadata": {},
   "outputs": [
    {
     "data": {
      "text/plain": [
       "-1"
      ]
     },
     "execution_count": 2,
     "metadata": {},
     "output_type": "execute_result"
    }
   ],
   "source": [
    "2-3"
   ]
  },
  {
   "cell_type": "code",
   "execution_count": 3,
   "metadata": {},
   "outputs": [
    {
     "data": {
      "text/plain": [
       "24"
      ]
     },
     "execution_count": 3,
     "metadata": {},
     "output_type": "execute_result"
    }
   ],
   "source": [
    "3*8"
   ]
  },
  {
   "cell_type": "code",
   "execution_count": 4,
   "metadata": {},
   "outputs": [
    {
     "data": {
      "text/plain": [
       "0.5"
      ]
     },
     "execution_count": 4,
     "metadata": {},
     "output_type": "execute_result"
    }
   ],
   "source": [
    "2/4"
   ]
  },
  {
   "cell_type": "code",
   "execution_count": 5,
   "metadata": {},
   "outputs": [
    {
     "data": {
      "text/plain": [
       "8"
      ]
     },
     "execution_count": 5,
     "metadata": {},
     "output_type": "execute_result"
    }
   ],
   "source": [
    "2**3"
   ]
  },
  {
   "cell_type": "code",
   "execution_count": 7,
   "metadata": {},
   "outputs": [
    {
     "data": {
      "text/plain": [
       "1"
      ]
     },
     "execution_count": 7,
     "metadata": {},
     "output_type": "execute_result"
    }
   ],
   "source": [
    "5%2"
   ]
  },
  {
   "cell_type": "code",
   "execution_count": 8,
   "metadata": {},
   "outputs": [
    {
     "data": {
      "text/plain": [
       "2"
      ]
     },
     "execution_count": 8,
     "metadata": {},
     "output_type": "execute_result"
    }
   ],
   "source": [
    "5//2"
   ]
  },
  {
   "cell_type": "markdown",
   "metadata": {},
   "source": [
    "# Typy zmiennych"
   ]
  },
  {
   "cell_type": "markdown",
   "metadata": {},
   "source": [
    "## Zmienne typu *całkowitego*"
   ]
  },
  {
   "cell_type": "code",
   "execution_count": 10,
   "metadata": {},
   "outputs": [
    {
     "name": "stdout",
     "output_type": "stream",
     "text": [
      "2\n",
      "<class 'int'>\n"
     ]
    }
   ],
   "source": [
    "x=2\n",
    "print(x)\n",
    "print(type(x))"
   ]
  },
  {
   "cell_type": "markdown",
   "metadata": {},
   "source": [
    "## Zmienne typu *rzeczywistego*"
   ]
  },
  {
   "cell_type": "code",
   "execution_count": 11,
   "metadata": {},
   "outputs": [
    {
     "name": "stdout",
     "output_type": "stream",
     "text": [
      "2.35\n",
      "<class 'float'>\n"
     ]
    }
   ],
   "source": [
    "y = 2.35\n",
    "print(y)\n",
    "print(type(y))"
   ]
  },
  {
   "cell_type": "markdown",
   "metadata": {},
   "source": [
    "## Zmienne typu *łańcuchowego*"
   ]
  },
  {
   "cell_type": "code",
   "execution_count": 12,
   "metadata": {},
   "outputs": [
    {
     "name": "stdout",
     "output_type": "stream",
     "text": [
      "Ola Kowalska\n",
      "<class 'str'>\n"
     ]
    }
   ],
   "source": [
    "imie = 'Ola Kowalska'\n",
    "print(imie)\n",
    "print(type(imie))"
   ]
  },
  {
   "cell_type": "markdown",
   "metadata": {},
   "source": [
    "## Zmienne typu *zespolonego*\n",
    "$z = a + jb$ gdzie $j=\\sqrt(-1)$"
   ]
  },
  {
   "cell_type": "code",
   "execution_count": 13,
   "metadata": {},
   "outputs": [
    {
     "name": "stdout",
     "output_type": "stream",
     "text": [
      "(1+2j)\n",
      "<class 'complex'>\n"
     ]
    }
   ],
   "source": [
    "z = 1 + 2j\n",
    "print(z)\n",
    "print(type(z))"
   ]
  },
  {
   "cell_type": "code",
   "execution_count": 61,
   "metadata": {},
   "outputs": [
    {
     "name": "stdout",
     "output_type": "stream",
     "text": [
      "3j\n",
      "Re a1 = 1.0\n",
      "Im a1 = 2.0\n"
     ]
    }
   ],
   "source": [
    "a1 = 1 + 2j\n",
    "a2 = -1 + 1j\n",
    "a = a1 + a2\n",
    "print(a)\n",
    "print('Re a1 =',a1.real)\n",
    "print('Im a1 =',a1.imag)"
   ]
  },
  {
   "cell_type": "markdown",
   "metadata": {},
   "source": [
    "# Zmienne typu *list*"
   ]
  },
  {
   "cell_type": "code",
   "execution_count": 1,
   "metadata": {},
   "outputs": [
    {
     "name": "stdout",
     "output_type": "stream",
     "text": [
      "[2, 3, 3.5, 4, 4.5, 5] ['Ola', 'Ala', 'Jan', 'Piotr']\n",
      "<class 'list'> <class 'list'>\n"
     ]
    }
   ],
   "source": [
    "oceny = [2,3,3.5,4,4.5,5]\n",
    "imiona = ['Ola', 'Ala', 'Jan', 'Piotr']\n",
    "print(oceny, imiona)\n",
    "print(type(oceny), type(imiona))"
   ]
  },
  {
   "cell_type": "markdown",
   "metadata": {},
   "source": [
    "*Listy* są indeksowane od zera do $n-1$, gdzie $n$ to liczba elementów w liście. Aby odwołać się do elementu liczy należy podać nazwę listy i indeks tego elementu, jak np.:"
   ]
  },
  {
   "cell_type": "code",
   "execution_count": 5,
   "metadata": {},
   "outputs": [
    {
     "name": "stdout",
     "output_type": "stream",
     "text": [
      "Pierwszy element lity oceny to  2\n",
      "Czwarty element listy imiona to  Piotr\n"
     ]
    }
   ],
   "source": [
    "print('Pierwszy element lity oceny to ',oceny[0])\n",
    "print('Czwarty element listy imiona to ',imiona[3])"
   ]
  },
  {
   "cell_type": "markdown",
   "metadata": {},
   "source": [
    "### Funkcja *range(start,stop,krok)*, gdzie *start,stop-1* i *krok* to dowolne liczby **całkowiete.** Funkcja *range()* może być użyta w następujący sposób: \n",
    "\n",
    "1. range(start,stop, krok)\n",
    "2. range(start, stop)\n",
    "3. range(stop)"
   ]
  },
  {
   "cell_type": "code",
   "execution_count": 7,
   "metadata": {},
   "outputs": [
    {
     "name": "stdout",
     "output_type": "stream",
     "text": [
      "range(-10, 11, 2)\n",
      "range(-3, 5)\n",
      "range(0, 7)\n"
     ]
    }
   ],
   "source": [
    "x = range(-10,11,2)\n",
    "print(x)\n",
    "y = range(-3,5)\n",
    "print(y)\n",
    "z = range(7)\n",
    "print(z)"
   ]
  },
  {
   "cell_type": "markdown",
   "metadata": {},
   "source": [
    "### Cięcie list [:]"
   ]
  },
  {
   "cell_type": "code",
   "execution_count": 10,
   "metadata": {},
   "outputs": [
    {
     "name": "stdout",
     "output_type": "stream",
     "text": [
      "range(-10, 12, 2)\n",
      "range(-4, 12, 2)\n",
      "range(-10, 0, 2)\n",
      "range(-6, 2, 2)\n",
      "10\n",
      "8\n",
      "range(-10, 12, 4)\n",
      "range(10, -12, -2)\n"
     ]
    }
   ],
   "source": [
    "print(x[:])\n",
    "print(x[3:])\n",
    "print(x[:5])\n",
    "print(x[2:6])\n",
    "print(x[-1])\n",
    "print(x[-2])\n",
    "print(x[::2])\n",
    "print(x[::-1])"
   ]
  },
  {
   "cell_type": "markdown",
   "metadata": {},
   "source": [
    "## Czy zmienne łańcuchowe są *listami?*"
   ]
  },
  {
   "cell_type": "code",
   "execution_count": 9,
   "metadata": {},
   "outputs": [
    {
     "name": "stdout",
     "output_type": "stream",
     "text": [
      "J\n",
      "i\n",
      " Kowal\n"
     ]
    }
   ],
   "source": [
    "dane = 'Jan Kowalski'\n",
    "print(dane[0])\n",
    "print(dane[-1])\n",
    "print(dane[3:9])"
   ]
  },
  {
   "cell_type": "markdown",
   "metadata": {},
   "source": [
    "## Funkcje upper(), upper(), split()"
   ]
  },
  {
   "cell_type": "code",
   "execution_count": 11,
   "metadata": {},
   "outputs": [
    {
     "name": "stdout",
     "output_type": "stream",
     "text": [
      "JAN KOWALSKI\n",
      "jan kowalski\n",
      "['Jan', 'Kowalski']\n",
      "['Jan K', 'walski']\n"
     ]
    }
   ],
   "source": [
    "print(dane.upper())\n",
    "print(dane.lower())\n",
    "print(dane.split())\n",
    "print(dane.split('o'))"
   ]
  },
  {
   "cell_type": "markdown",
   "metadata": {},
   "source": [
    "# Operatory\n",
    "\n",
    "Do przypisania zmiennej pewnej wartości używa się operatora `=`, podczas gdy do porównania ze sobą dwóch zmiennych służy podwójny znak równości `==`. Natomiast operator \"różne od\" zapisujemy `!=`. Ponadto, `>, >=, <, <=`.\n",
    "\n",
    "**Operatry logiczne** `end, or, not`\n"
   ]
  },
  {
   "cell_type": "code",
   "execution_count": 47,
   "metadata": {},
   "outputs": [
    {
     "name": "stdout",
     "output_type": "stream",
     "text": [
      "x > y  is False\n",
      "x < y  is True\n",
      "x == y is False\n",
      "x != y is True\n",
      "x >= y is False\n",
      "x <= y is True\n"
     ]
    }
   ],
   "source": [
    "x = 10\n",
    "y = 12\n",
    "\n",
    "# Output: x > y is False\n",
    "print('x > y  is',x>y)\n",
    "\n",
    "# Output: x < y is True\n",
    "print('x < y  is',x<y)\n",
    "\n",
    "# Output: x == y is False\n",
    "print('x == y is',x==y)\n",
    "\n",
    "# Output: x != y is True\n",
    "print('x != y is',x!=y)\n",
    "\n",
    "# Output: x >= y is False\n",
    "print('x >= y is',x>=y)\n",
    "\n",
    "# Output: x <= y is True\n",
    "print('x <= y is',x<=y)"
   ]
  },
  {
   "cell_type": "code",
   "execution_count": 46,
   "metadata": {},
   "outputs": [
    {
     "name": "stdout",
     "output_type": "stream",
     "text": [
      "x and y is False\n",
      "x or y is True\n",
      "not x is False\n"
     ]
    }
   ],
   "source": [
    "x = True\n",
    "y = False\n",
    "\n",
    "# Output: x and y is False\n",
    "print('x and y is',x and y)\n",
    "\n",
    "# Output: x or y is True\n",
    "print('x or y is',x or y)\n",
    "\n",
    "# Output: not x is False\n",
    "print('not x is',not x)"
   ]
  },
  {
   "cell_type": "markdown",
   "metadata": {},
   "source": [
    "# Instrukca warunkowa `if` i operatory `and`, `or` i `in`"
   ]
  },
  {
   "cell_type": "code",
   "execution_count": 13,
   "metadata": {},
   "outputs": [
    {
     "name": "stdout",
     "output_type": "stream",
     "text": [
      "Masz na imię Ola i masz 21 lat\n"
     ]
    }
   ],
   "source": [
    "imie = 'Ola'\n",
    "wiek = 21\n",
    "if imie == 'Ola' and wiek == 21:\n",
    "    print('Masz na imię %s i masz %d lat' %(imie,wiek))"
   ]
  },
  {
   "cell_type": "code",
   "execution_count": 19,
   "metadata": {},
   "outputs": [
    {
     "name": "stdout",
     "output_type": "stream",
     "text": [
      "Rownanie ma jeden podwojny pierwiastek rzeczywisty\n"
     ]
    }
   ],
   "source": [
    "a,b,c = 1,2,1\n",
    "delta = b**2 - 4*a*c\n",
    "if delta < 0:\n",
    "    print('Rownanie nie ma pirwiastkow rzeczywistych')\n",
    "elif delta == 0:\n",
    "    print('Rownanie ma jeden podwojny pierwiastek rzeczywisty')\n",
    "else:\n",
    "    print('Rownanie ma dwa pierwiastki rzeczwiste')"
   ]
  },
  {
   "cell_type": "code",
   "execution_count": 21,
   "metadata": {},
   "outputs": [
    {
     "name": "stdout",
     "output_type": "stream",
     "text": [
      "True\n"
     ]
    }
   ],
   "source": [
    "v = 5\n",
    "dane = range(11)\n",
    "print(v in dane)"
   ]
  },
  {
   "cell_type": "code",
   "execution_count": 22,
   "metadata": {},
   "outputs": [
    {
     "name": "stdout",
     "output_type": "stream",
     "text": [
      "True\n",
      "False\n"
     ]
    }
   ],
   "source": [
    "imiona = ['Ola', 'Ala', 'Jan', 'Piotr']\n",
    "i = 'Ola'\n",
    "j = 'Olek'\n",
    "print(i in imiona)\n",
    "print(j in imiona)"
   ]
  },
  {
   "cell_type": "markdown",
   "metadata": {},
   "source": [
    "# Pętle `for` i `while`"
   ]
  },
  {
   "cell_type": "code",
   "execution_count": 24,
   "metadata": {},
   "outputs": [
    {
     "name": "stdout",
     "output_type": "stream",
     "text": [
      "0\n",
      "1\n",
      "2\n",
      "3\n",
      "4\n"
     ]
    }
   ],
   "source": [
    "for i in range(5):\n",
    "    print(i)"
   ]
  },
  {
   "cell_type": "code",
   "execution_count": 35,
   "metadata": {},
   "outputs": [
    {
     "name": "stdout",
     "output_type": "stream",
     "text": [
      "OlaOlaOla"
     ]
    }
   ],
   "source": [
    "for i in range(3):\n",
    "    print('Ola', end='')"
   ]
  },
  {
   "cell_type": "code",
   "execution_count": 38,
   "metadata": {},
   "outputs": [
    {
     "name": "stdout",
     "output_type": "stream",
     "text": [
      "0\n",
      "1\n",
      "2\n",
      "3\n",
      "4\n"
     ]
    }
   ],
   "source": [
    "i = 0\n",
    "while i < 5:\n",
    "    print(i)\n",
    "    i += 1 # i = i + 1"
   ]
  },
  {
   "cell_type": "markdown",
   "metadata": {},
   "source": [
    "# Bibioteka matematyczna `math`\n",
    "\n",
    "```    \n",
    "    import math\n",
    "    from math import *\n",
    "    from math import pi, sin, factorial\n",
    "    #help(math) \n",
    "    #dir(math)\n",
    "```    "
   ]
  },
  {
   "cell_type": "markdown",
   "metadata": {},
   "source": [
    "# Funkcje `input()` i `eval()`"
   ]
  },
  {
   "cell_type": "code",
   "execution_count": 54,
   "metadata": {},
   "outputs": [
    {
     "name": "stdout",
     "output_type": "stream",
     "text": [
      "Podaj liczbe 10\n",
      "10\n",
      "<class 'str'>\n"
     ]
    }
   ],
   "source": [
    "z = input('Podaj liczbe ')\n",
    "print(z)\n",
    "print(type(z))"
   ]
  },
  {
   "cell_type": "code",
   "execution_count": 55,
   "metadata": {},
   "outputs": [
    {
     "name": "stdout",
     "output_type": "stream",
     "text": [
      "Podaj a 1\n",
      "Podaj b 2\n",
      "Podaj c 1\n",
      "Delta =  0\n"
     ]
    }
   ],
   "source": [
    "a = eval(input('Podaj a '))\n",
    "b = eval(input('Podaj b '))\n",
    "c = eval(input('Podaj c '))\n",
    "delta = b**2 - 4*a*c\n",
    "print('Delta = ',delta)"
   ]
  },
  {
   "cell_type": "markdown",
   "metadata": {},
   "source": [
    "# Wykresy funkcji. Bibioteka `matplotlib`. \n",
    "## Strona internetowa www.matplotlib.org\n",
    "## Definicja funkcji `def nazwa(arg1, arg2,...):`"
   ]
  },
  {
   "cell_type": "code",
   "execution_count": 14,
   "metadata": {},
   "outputs": [
    {
     "data": {
      "image/png": "[encoded data removed]",
      "text/plain": [
       "<Figure size 432x288 with 1 Axes>"
      ]
     },
     "metadata": {
      "needs_background": "light"
     },
     "output_type": "display_data"
    }
   ],
   "source": [
    "import matplotlib.pyplot as plt\n",
    "\n",
    "def FunkcjaKwadratowa(x,a,b,c):\n",
    "    'Funkcja oblicza f(x)=ax^2 + bx + c'\n",
    "    return a*x**2 + b*x + c\n",
    "\n",
    "dziedzina = range(-10,10)\n",
    "\n",
    "#podstaw dziedzine do funkcji i oblicz wartosci\n",
    "y = [FunkcjaKwadratowa(i,a=1,b=2,c=1) for i in dziedzina]\n",
    "\n",
    "#wykresl funkcje\n",
    "plt.plot(dziedzina,y,lw=3)\n",
    "plt.grid()\n",
    "plt.xlabel('x')\n",
    "plt.ylabel('y')\n",
    "plt.title('Funkcja kwadratwa')\n",
    "plt.show()"
   ]
  },
  {
   "cell_type": "code",
   "execution_count": 21,
   "metadata": {},
   "outputs": [
    {
     "data": {
      "image/png": "[encoded data removed]",
      "text/plain": [
       "<Figure size 432x288 with 1 Axes>"
      ]
     },
     "metadata": {
      "needs_background": "light"
     },
     "output_type": "display_data"
    }
   ],
   "source": [
    "from math import pi,sin\n",
    "\n",
    "def FunkcjaSin(x,a,b):\n",
    "    return a*sin(b*x)**2\n",
    "\n",
    "#kat w stopniach\n",
    "st = range(-360,365,5)\n",
    "#kat w radianach\n",
    "rad = [i*pi/180 for i in st]\n",
    "\n",
    "y1 = [FunkcjaSin(i,a=2,b=2) for i in rad]\n",
    "y2 = [FunkcjaSin(i,a=1,b=1) for i in rad]\n",
    "\n",
    "plt.plot(rad,y1,'--',rad,y2,'.',lw=3)\n",
    "plt.legend(['y1','y2'],loc = 1)\n",
    "plt.grid()\n",
    "plt.xlabel('rad')\n",
    "plt.ylabel('y')\n",
    "plt.title('Funkcja')\n",
    "plt.show()"
   ]
  },
  {
   "cell_type": "markdown",
   "metadata": {},
   "source": [
    "## Funcja `subplot(n-wierszy, m-kolumn, nr wykresu)`"
   ]
  },
  {
   "cell_type": "code",
   "execution_count": 13,
   "metadata": {},
   "outputs": [
    {
     "data": {
      "image/png": "[encoded data removed]",
      "text/plain": [
       "<Figure size 432x288 with 4 Axes>"
      ]
     },
     "metadata": {
      "needs_background": "light"
     },
     "output_type": "display_data"
    }
   ],
   "source": [
    "%matplotlib inline\n",
    "import matplotlib.pyplot as plt\n",
    "\n",
    "plt.subplot(221)\n",
    "#plt.plot()\n",
    "plt.text(0.4,0.4,'(221)',fontsize=14)\n",
    "plt.subplot(222)\n",
    "#plt.plot()\n",
    "plt.text(0.4,0.4,'(222)',fontsize=14)\n",
    "plt.subplot(223)\n",
    "#plt.plot()\n",
    "plt.text(0.4,0.4,'(223)',fontsize=14)\n",
    "plt.subplot(224)\n",
    "#plt.plot()\n",
    "plt.text(0.4,0.4,'(224)',fontsize=14)\n",
    "\n",
    "plt.tight_layout()"
   ]
  },
  {
   "cell_type": "markdown",
   "metadata": {},
   "source": [
    "# Funcja `open('nazwa_pliku','tryb')` czyli strumień wej./wyj. plikowego\n",
    "\n",
    "1. Tryb odczytu 'r' ang.(read)\n",
    "2. Tryb zapisu 'w' ang.(write)\n",
    "3. Tryb dołączania 'a' ang.(append)"
   ]
  },
  {
   "cell_type": "code",
   "execution_count": null,
   "metadata": {},
   "outputs": [],
   "source": []
  }
 ],
 "metadata": {
  "kernelspec": {
   "display_name": "Python 3",
   "language": "python",
   "name": "python3"
  },
  "language_info": {
   "codemirror_mode": {
    "name": "ipython",
    "version": 3
   },
   "file_extension": ".py",
   "mimetype": "text/x-python",
   "name": "python",
   "nbconvert_exporter": "python",
   "pygments_lexer": "ipython3",
   "version": "3.7.1"
  }
 },
 "nbformat": 4,
 "nbformat_minor": 2
}
